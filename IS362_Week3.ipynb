{
 "cells": [
  {
   "cell_type": "markdown",
   "metadata": {},
   "source": [
    "# <center>IS 362 Assignment 3 - Week 3 2020 Spring</center>"
   ]
  },
  {
   "cell_type": "markdown",
   "metadata": {},
   "source": [
    "Suppose you have ridden a bicycle from New York City to Key West, Florida.  Your bicycle odometer shows the total miles, which you have dutifully logged at the end of each day with paper and pencil.  Your first two entries might be 55 and 120, indicating that you rode your bike 55 miles on day 1 and 65 miles on day 2.\n",
    "\n",
    "\n",
    "Your task is to create a pandas Series object that holds the cumulative miles at the end of each day, then use your Python skills to show the total miles that you rode each day.  Consider how you should best present this information in a Jupyter notebook.  You should save your Jupyter Notebook to your GitHub repository, and provide a link in your assignment submission.<br>\n",
    "\n",
    "\n",
    "\n",
    "\n",
    "\n"
   ]
  },
  {
   "cell_type": "markdown",
   "metadata": {},
   "source": [
    "\n",
    "## Calculate total miles need to travel from NYC to Key West Florida.\n",
    "My first step is to calculate total miles by leveraging google maps with starting position from my Work place at 59-10 Junction Blvd, Flushing, NY 11373\n",
    "going to Key West Florida, 33040.  The total miles it will require to go to Key West Florida is 1550 miles.\n",
    "<br>\n",
    "<br>\n",
    "\n",
    "https://www.google.com/maps/dir/5910+Junction+Blvd,+Queens,+NY+11373,+USA/Key+West,+Florida/@33.9633109,-85.6008169,5.21z/data=!4m14!4m13!1m5!1m1!1s0x89c25e358b8e2823:0x7a0658150f4d4b5d!2m2!1d-73.8652519!2d40.7347381!1m5!1m1!1s0x88d1b134ad952377:0x3fcee92f77463b5e!2m2!1d-81.7799871!2d24.5550593!3e1?hl=en&authuser=0\n",
    "\n",
    "![img](https://i.imgur.com/2a84ehk.jpeg)\n",
    "<br>\n",
    "            \n",
    "            "
   ]
  },
  {
   "cell_type": "code",
   "execution_count": 3,
   "metadata": {},
   "outputs": [
    {
     "name": "stdout",
     "output_type": "stream",
     "text": [
      "1 = 55\n",
      "2 = 120\n",
      "3 = 185\n",
      "4 = 250\n",
      "5 = 315\n",
      "6 = 380\n",
      "7 = 445\n",
      "8 = 510\n",
      "9 = 575\n",
      "10 = 640\n",
      "11 = 705\n",
      "12 = 770\n",
      "13 = 835\n",
      "14 = 900\n",
      "15 = 965\n",
      "16 = 1030\n",
      "17 = 1095\n",
      "18 = 1160\n",
      "19 = 1225\n",
      "20 = 1290\n",
      "21 = 1355\n",
      "22 = 1420\n",
      "23 = 1485\n",
      "24 = 1528\n"
     ]
    }
   ],
   "source": [
    "import pandas as pd\n",
    "import numpy as np\n",
    "\n",
    "odometer = {}\n",
    "odometer[1] = 55\n",
    "odometer[2] = 120\n",
    "odometer[3] = 185\n",
    "odometer[4] = 250\n",
    "odometer[5] = 315\n",
    "odometer[6] = 380\n",
    "odometer[7] = 445\n",
    "odometer[8] = 510\n",
    "odometer[9] = 575\n",
    "odometer[10] = 640\n",
    "odometer[11] = 705\n",
    "odometer[12] = 770\n",
    "odometer[13] = 835\n",
    "odometer[14] = 900\n",
    "odometer[15] = 965\n",
    "odometer[16] = 1030\n",
    "odometer[17] = 1095\n",
    "odometer[18] = 1160\n",
    "odometer[19] = 1225\n",
    "odometer[20] = 1290\n",
    "odometer[21] = 1355\n",
    "odometer[22] = 1420\n",
    "odometer[23] = 1485\n",
    "odometer[24] = 1528\n",
    "\n",
    "for key,val in odometer.items():\n",
    "    print (key,\"=\",val)"
   ]
  },
  {
   "cell_type": "markdown",
   "metadata": {},
   "source": [
    "## Display miles rode each day"
   ]
  },
  {
   "cell_type": "code",
   "execution_count": 4,
   "metadata": {},
   "outputs": [
    {
     "name": "stdout",
     "output_type": "stream",
     "text": [
      "Day 1 = 55 miles\n",
      "Day 2 = 65 miles\n",
      "Day 3 = 65 miles\n",
      "Day 4 = 65 miles\n",
      "Day 5 = 65 miles\n",
      "Day 6 = 65 miles\n",
      "Day 7 = 65 miles\n",
      "Day 8 = 65 miles\n",
      "Day 9 = 65 miles\n",
      "Day 10 = 65 miles\n",
      "Day 11 = 65 miles\n",
      "Day 12 = 65 miles\n",
      "Day 13 = 65 miles\n",
      "Day 14 = 65 miles\n",
      "Day 15 = 65 miles\n",
      "Day 16 = 65 miles\n",
      "Day 17 = 65 miles\n",
      "Day 18 = 65 miles\n",
      "Day 19 = 65 miles\n",
      "Day 20 = 65 miles\n",
      "Day 21 = 65 miles\n",
      "Day 22 = 65 miles\n",
      "Day 23 = 65 miles\n",
      "Day 24 = 43 miles\n"
     ]
    }
   ],
   "source": [
    "#Calculate miles that was rode each day by using th3 formula by using the method below. S\n",
    "\n",
    "#Subtracting the yesterday miles from the current_day_miles\n",
    "\n",
    "miles_each_day = {}\n",
    "yesterday_miles = 0\n",
    "\n",
    "for day, odometer_miles in odometer.items():\n",
    "    current_miles = odometer_miles - yesterday_miles\n",
    "    miles_each_day[day] = current_miles\n",
    "    print('Day ' + str(day) + ' = ' + str(current_miles) + ' miles')\n",
    "    yesterday_miles = odometer_miles"
   ]
  },
  {
   "cell_type": "code",
   "execution_count": null,
   "metadata": {},
   "outputs": [],
   "source": []
  }
 ],
 "metadata": {
  "kernelspec": {
   "display_name": "Python 3",
   "language": "python",
   "name": "python3"
  },
  "language_info": {
   "codemirror_mode": {
    "name": "ipython",
    "version": 3
   },
   "file_extension": ".py",
   "mimetype": "text/x-python",
   "name": "python",
   "nbconvert_exporter": "python",
   "pygments_lexer": "ipython3",
   "version": "3.8.3"
  }
 },
 "nbformat": 4,
 "nbformat_minor": 4
}
